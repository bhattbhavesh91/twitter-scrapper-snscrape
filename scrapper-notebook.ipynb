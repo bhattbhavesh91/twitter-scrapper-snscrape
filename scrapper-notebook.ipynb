{
  "nbformat": 4,
  "nbformat_minor": 0,
  "metadata": {
    "colab": {
      "name": "twitter-scrapper.ipynb",
      "provenance": [],
      "collapsed_sections": []
    },
    "kernelspec": {
      "name": "python3",
      "display_name": "Python 3"
    },
    "language_info": {
      "name": "python"
    }
  },
  "cells": [
    {
      "cell_type": "code",
      "metadata": {
        "id": "xwHaRJpruXsz"
      },
      "source": [
        "!pip install -q snscrape"
      ],
      "execution_count": 1,
      "outputs": []
    },
    {
      "cell_type": "code",
      "metadata": {
        "id": "nD7B3adiubGG"
      },
      "source": [
        "import os\n",
        "import pandas as pd\n",
        "from datetime import date"
      ],
      "execution_count": 9,
      "outputs": []
    },
    {
      "cell_type": "code",
      "metadata": {
        "id": "uNhZNSNavwGQ"
      },
      "source": [
        "today = date.today()\n",
        "end_date = today"
      ],
      "execution_count": 13,
      "outputs": []
    },
    {
      "cell_type": "code",
      "metadata": {
        "id": "lUFINzS2yNem"
      },
      "source": [
        "search_term = 'Bhavesh Bhatt Data Scientist'\n",
        "from_date = '2019-01-01'"
      ],
      "execution_count": null,
      "outputs": []
    },
    {
      "cell_type": "markdown",
      "metadata": {
        "id": "dx9KjHTi4Fxj"
      },
      "source": [
        "# Total Number of Tweets for Search Terms"
      ]
    },
    {
      "cell_type": "code",
      "metadata": {
        "colab": {
          "base_uri": "https://localhost:8080/"
        },
        "id": "I0fFOKpLwBGF",
        "outputId": "c9466122-88a5-49c4-b391-4b760f9b1c87"
      },
      "source": [
        "os.system(f\"snscrape --since {from_date} twitter-search '{search_term} until:{end_date}' > result-tweets.txt\")\n",
        "if os.stat(\"result-tweets.txt\").st_size == 0:\n",
        "  counter = 0\n",
        "else:\n",
        "  df = pd.read_csv('result-tweets.txt', names=['link'])\n",
        "  counter = df.size\n",
        "\n",
        "print('Number Of Tweets : '+ str(counter))"
      ],
      "execution_count": 21,
      "outputs": [
        {
          "output_type": "stream",
          "text": [
            "Number Of Tweets : 3\n"
          ],
          "name": "stdout"
        }
      ]
    },
    {
      "cell_type": "markdown",
      "metadata": {
        "id": "iFN4VxqK4KDU"
      },
      "source": [
        "# Extracting Exact Tweeets"
      ]
    },
    {
      "cell_type": "code",
      "metadata": {
        "id": "GGUawFA0xTG3"
      },
      "source": [
        "max_results = 100"
      ],
      "execution_count": 22,
      "outputs": []
    },
    {
      "cell_type": "code",
      "metadata": {
        "colab": {
          "base_uri": "https://localhost:8080/"
        },
        "id": "AWseHfDmwYCw",
        "outputId": "1e26ba61-c15e-4fe9-e88d-ff870d645787"
      },
      "source": [
        "extracted_tweets = \"snscrape --format '{content!r}'\"+ f\" --max-results {max_results} --since {from_date} twitter-search '{search_term} until:{end_date}' > extracted-tweets.txt\"\n",
        "os.system(extracted_tweets)\n",
        "if os.stat(\"extracted-tweets.txt\").st_size == 0:\n",
        "  print('No Tweets found')\n",
        "else:\n",
        "  df = pd.read_csv('extracted-tweets.txt', names=['content'])\n",
        "  for row in df['content'].iteritems():\n",
        "    print(row)"
      ],
      "execution_count": 24,
      "outputs": [
        {
          "output_type": "stream",
          "text": [
            "((\"'🚨Tech Talk of the Week alert!\\\\n\\\\nLearn about TensorFlow Hub by joining the session hosted by Machine Learning GDE\", ' and Data Scientist'), \" Bhavesh Bhatt.\\\\n\\\\nThis event will start at 8 PM Oman time\\\\n\\\\nJoin by clicking the link below!\\\\nhttps://t.co/CO6S9i6NfL\\\\n\\\\n#CourageToCreate #IWD #WTM https://t.co/4zKKFtfuhC https://t.co/qs8N3SwYW3'\")\n",
            "((\"'This Sunday\", ' April 18\\\\n\\\\n💾Tech Talk Time!\\\\n\\\\nFrom 8 to 9PM GST'), ' learn about TFHub\\\\n\\\\nTensorFlow Hub is an open repository &amp; library for reusable machine learning. Come join Machine Learning GDE &amp; Data Scientist')\n",
            "((\"'Data Science Career | How to Transition to Data Science with Data Scientist Bhavesh Bhatt |GreyAtom https://t.co/ocZCP6LCeM'\", nan), nan)\n"
          ],
          "name": "stdout"
        }
      ]
    },
    {
      "cell_type": "markdown",
      "metadata": {
        "id": "MWWTBnwS4Ofr"
      },
      "source": [
        "# Extracting Tweets from Users"
      ]
    },
    {
      "cell_type": "code",
      "metadata": {
        "colab": {
          "base_uri": "https://localhost:8080/"
        },
        "id": "uFBwPec2zSr6",
        "outputId": "106991a9-2325-48c7-f650-dc948c510b8e"
      },
      "source": [
        "user_name = \"_bhaveshbhatt\"\n",
        "user_tweets = \"snscrape --format '{content!r}'\"+ f\" --max-results {max_results} --since {from_date} twitter-user '{user_name} until:{end_date}' > user-tweets.txt\"\n",
        "os.system(user_tweets)\n",
        "if os.stat(\"user-tweets.txt\").st_size == 0:\n",
        "  print('No Tweets found')\n",
        "else:\n",
        "  df = pd.read_csv('user-tweets.txt', names=['content'])\n",
        "  for row in df['content'].iteritems():\n",
        "    print(row)"
      ],
      "execution_count": 35,
      "outputs": [
        {
          "output_type": "stream",
          "text": [
            "(0, \"@iaveshh @huggingface I'm still exploring the M1 so don't want to create a video for the sake of creating it. I'll create a video once I have enough data points.\")\n",
            "(1, \"@iaveshh Hey Avesh, I'm still exploring the device so won't be able to comment right away but I'll definitely make a video on this soon :)\")\n",
            "(2, \"'55% battery consumed with ~8 hours of screen on time with close to 4-5 hours of 4k video consumption.\\\\n\\\\nIs this a dream or are we living in the future? \\\\n\\\\n#mindblown #m1 #mac #M1Mac #MacBookAir #macbook https://t.co/uKnYUTdqPI'\")\n",
            "(3, \"'The M1 MacBook Air is a Beast. I just rendered a 2 minute video in less than 35 seconds.\\\\n\\\\n#mindblown #m1 #mac #M1Mac #videoediting #MacBookAir #macbook https://t.co/5tFBdI1B9G'\")\n",
            "(4, \"'@RsreeTech @PrabhhavSharma Thanks for sharing this :)'\")\n",
            "(5, \"'Just received some super amazing package from #Google for the talk that I gave during #GoogleIO this year🙂\\\\n\\\\nThank you @GoogleDevsIN &amp; @GoogleDevExpert 🙂\\\\n\\\\n#GDE https://t.co/WsI2ChK56B'\")\n",
            "(6, \"@PrabhhavSharma I'm without a laptop currently 😛 As soon as I buy a laptop, I'll create a video on it soon!\")\n",
            "(7, \"'Lenovo Thinkpad Yoga 14 was a friend that helped me for 5.5 long years. This very laptop helped me create 300+ videos &amp; propelled my career growth. You will definitely be missed. Thank you #Lenovo for creating such a solid product. https://t.co/6lQ993hHnv'\")\n",
            "(8, '\\'Chandler Bing\\\\\\'s job was \"Data Reconfiguration &amp; Statistical Factoring\" so officially he became a Data Scientist long back😂\\\\n\\\\n#AI #ArtificialIntelligence #ML #MachineLearning #DeepLearning #DataScience #FriendsReunion\\'')\n",
            "(9, \"It's getting to that stage that by the time you learn a technique in ML &amp; then a year later it's obsolete. LSTM is now made obsolete all thanks to Transformers. Its tough to keep up with the advances.\\\\n\\\\n#AI #ArtificialIntelligence #ML #MachineLearning #DeepLearning #DataScience\")\n",
            "(10, \"It’s finally happening. I'm thrilled to be featured at #GoogleIO this year in a lighting talk on Landmark Detection using TensorFlow Hub.\\\\n\\\\nIt's free &amp; virtual. Click here to register: \\\\nhttps://t.co/AJlXOijvow\\\\n\\\\nSee you there :)\\\\n\\\\n@GoogleDevExpert @GDGIndia @googledevs @GoogleDevsIN\")\n",
            "(11, \"@ankur_rangi The API calls are being blocked! I'm trying to figure out a way!\")\n",
            "(12, \"'@philipvollet Thank you 🙏'\")\n",
            "(13, \"'30K Subscribers! Thank You🙏\\\\n\\\\n#YouTube #youtubechannel #DataScience #MachineLearning #AI #ArtificialIntelligence #DeepLearning https://t.co/YR0o0ss0lr'\")\n",
            "(14, \"'@bengaluruu @rnaik21 Try now!'\")\n",
            "(15, \"'@malind Sure! I will add that feature'\")\n",
            "(16, \"@sss26888 I haven't tried it! I will try to add this feature soon.\")\n",
            "(17, \"'@RameshYesh Look at the recent commits :)'\")\n",
            "(18, \"'New Video : Derivative of the Tanh Activation function in Deep Learning\\\\n\\\\nVideo Link : https://t.co/DyV6f2cG9z\\\\n\\\\n#DeepLearning #DataScience #Python #AI #MachineLearning #ArtificialIntelligence'\")\n",
            "(19, \"'NVIDIA GTC 21 is live now\\\\n\\\\n#GTC21 #GTCwithMe #Nvidia https://t.co/R78aLU9vuK'\")\n",
            "(20, \"New Video : @streamlit application summarize text on blogs, websites using @huggingface's summarization pipeline.\\\\n\\\\nVideo Link : https://t.co/qbTmdABC0z\\\\n\\\\n#DeepLearning #DataScience #Python #AI #MachineLearning #ArtificialIntelligence https://t.co/gPafBU5Iln\")\n",
            "(21, \"'haha 😂 https://t.co/aFDKhFC41I'\")\n",
            "(22, \"New Video : @streamlit application to answer questions regarding your text using @huggingface's q&amp;a pipeline.\\\\n\\\\nVideo Link : https://t.co/AB9couvIDs\\\\n\\\\n#DeepLearning #DataScience #Python #AI #MachineLearning #ArtificialIntelligence https://t.co/kWPrfqpAmY\")\n",
            "(23, \"'New Video : @streamlit application to detect tables in document images such as invoices\")\n",
            "(24, \"'Palindrome Subscribers :)\\\\n\\\\n#YouTube #youtubechannel #DataScience #MachineLearning #AI #ArtificialIntelligence #DeepLearning https://t.co/Qqfs9W8dSm'\")\n",
            "(25, \"'NEW Video - Automatic Regression using TuringBot software.\\\\n\\\\nVideo Link : https://t.co/IVnWnGHJxw\\\\n\\\\n#DataScience #MachineLearning #ArtificialIntelligence #AI #YouTube #DeepLearning https://t.co/UgkY2ZBXlc'\")\n",
            "(26, \"'New Video : I created a #Bitcoin tracking application with 20 lines of Python code using @streamlit \\\\n\\\\nVideo Link : https://t.co/IwZkdFmgFW\\\\n\\\\n#DeepLearning #DataScience #Python #AI #MachineLearning #ArtificialIntelligence https://t.co/oslKpc9FRq'\")\n",
            "(27, \"'NEW Video - Answer Questions related to a table using @huggingface Transformers Pipeline.\\\\n\\\\nVideo Link : https://t.co/5rynXzNruu\\\\n\\\\n#DataScience #MachineLearning #ArtificialIntelligence #AI #YouTube #DeepLearning #NLP https://t.co/XWEvwbf1J1'\")\n",
            "(28, \"'NEW Video - Sentiment Analysis using @huggingface Transformers Pipeline\\\\n\\\\nVideo Link : https://t.co/A8epjff4VA\\\\n\\\\n#DataScience #MachineLearning #ArtificialIntelligence #AI #YouTube #DeepLearning #NLP https://t.co/3sVMlWnEPA'\")\n",
            "(29, \"'NEW Video - NVIDIA Deep Learning Institute (DLI) Course Giveaway Results.\\\\n\\\\nVideo Link : https://t.co/mtI5D4w5i0 \\\\n\\\\n#DataScience #MachineLearning #ArtificialIntelligence #AI #YouTube #DeepLearning https://t.co/Hko3Zi5krh'\")\n",
            "(30, \"'NEW Video - Free @nvidia GTC21 Conference + #nvidia Deep Learning Institute Course Giveaway.\\\\n\\\\nVideo Link : https://t.co/XtrJLp2505\\\\n\\\\n@NVIDIAAI @NVIDIAGTC #nvidia #GTC21 #AI #GTCwithme #Conference #DataScience https://t.co/BGFRrmSOUm'\")\n",
            "(31, \"I am planning to do a small giveaway as I'm about to reach 29000 subscribers.\\\\n\\\\nThe giveaway will help you in your career going forward. \\\\n\\\\nStay tuned for my next video :)\\\\n\\\\n#DataScience #MachineLearning #ArtificialIntelligence #AI #YouTube #DeepLearning https://t.co/Hm8mwg5fiT\")\n",
            "(32, \"'NEW Video - Optical Character Recognition (OCR) in Python using keras-ocr\\\\n\\\\nVideo Link : https://t.co/ZlH5gkQvEL\\\\n\\\\n#MachineLearning #DeepLearning #DataScience #Python #AI https://t.co/VRmVrVVpWZ'\")\n",
            "(33, \"'NEW Video - Remove Background Noise using #NVIDIA RTX Voice.\\\\n\\\\nVideo Link : https://t.co/vHVKWFUY2Y\\\\n\\\\n#MachineLearning #DeepLearning #DataScience #Python #AI https://t.co/JOjIMEUeHY'\")\n",
            "(34, \"'When you get @TensorFlow swags 😎\\\\n\\\\nThank you @GoogleDevsIN &amp; @GoogleDevExpert 😀 \\\\n\\\\n#GDE https://t.co/2iT0IJ9wEE'\")\n",
            "(35, \"'Apply Quickly :) #AcceleratedWithGoogle\\\\n\\\\n@GoogleDevsIN @GoogleDevExpert https://t.co/o8l1Ale2DH'\")\n",
            "(36, \"'NEW Video - TensorGram : Telegram bot to receive Deep Learning model training updates on your mobile.\\\\n\\\\nVideo Link : https://t.co/TwI835oZMw\\\\n\\\\n#MachineLearning #DeepLearning #DataScience #Python #AI https://t.co/42Q49j5pTf'\")\n",
            "(37, \"'https://t.co/fO6aehIwnZ'\")\n",
            "(38, \"New Video : Accelerate NumPy operations using @TensorFlow's tf.experimental.numpy module &amp; @nvidia's GPUs\\\\n\\\\nVideo Link : https://t.co/Snhi5iw8i1 \\\\n\\\\n@GoogleDevExpert @GoogleDevExpert \\\\n\\\\n#ArtificialIntelligence #MachineLearning #Python #AI https://t.co/iQ6onNGzhH\")\n",
            "(39, \"New Video : Is this the BEST BOOK on Google's BERT?\\\\n\\\\nVideo Link : https://t.co/5GhN3XEEe7\\\\n\\\\n#MachineLearning #DeepLearning #DataScience #Python #AI https://t.co/Q9tyz99lJ7\")\n",
            "(40, \"'NVIDIA is definitely increasing AI adoption. NVIDIA just announced : NVIDIA AI Enterprise\")\n",
            "(41, \"'Video Tutorial : A simple spelling &amp; grammar checker web application using Python \\\\n\\\\nVideo Link : https://t.co/gU7AP6x3iu\\\\n\\\\n#ArtificialIntelligence #MachineLearning #AI #DataScience #NLP https://t.co/TW5lSYyy0g'\")\n",
            "(42, \"NEW Video - Easy to use extractive text summarization using bert-extractive-summarizer which uses @huggingface's neuralcoref library.\\\\n\\\\nVideo Link : https://t.co/ocysr4zgFh\\\\n\\\\n#MachineLearning #DeepLearning #DataScience #Python #AI https://t.co/G6RS4tdloU\")\n",
            "(43, \"'I created a mini version of Grammarly using #Python &amp; @streamlit.\\\\n\\\\nVideo Tutorial coming soon :)\\\\n\\\\n#ArtificialIntelligence #MachineLearning #AI #DataScience #NLP https://t.co/HVCqTgyF0S'\")\n",
            "(44, \"'NEW Video - NVIDIA Jarvis\")\n",
            "(45, '\\'Charles Cooley : \"I am not what I think I am')\n",
            "(46, \"'NEW Video - Notify : Jupyter Extension For Browser Notifications of Cell Completion in Jupyter Notebook\\\\n\\\\nVideo Link : https://t.co/7pJKQbUIJs\\\\n\\\\n#MachineLearning #DeepLearning #DataScience #Python #AI https://t.co/pa1q4He5Mc'\")\n",
            "(47, \"NEW Video : @facebookai's mBART-50  using @huggingface's transformer for Multilingual Language Translation.\\\\n\\\\nVideo Link : https://t.co/wADHZYLnqR\\\\n\\\\n#NLP #MachineLearning #DeepLearning #DataScience #Python #AI https://t.co/ok6I7aiGK2\")\n",
            "(48, \"'I created a @streamlit application that translates from Hindi to English. A Big Shoutout to @huggingface &amp; @facebookai for open sourcing mBART-50 which helps in Translating text to\")\n",
            "(49, \"'Launch VSCode (codeserver) on Google Colab using ColabCode!\\\\n\\\\nThank you @abhi1thakur for creating this :)\\\\n\\\\nVideo Link : https://t.co/xTQFeQBdNS\\\\n\\\\n#deployment #google #vscode #machinelearning #DataScience https://t.co/WUF9cmRXmy'\")\n",
            "(50, \"'12-02-2021 - Palindrome Day!'\")\n",
            "(51, \"@facebookai's Wav2Vec 2.0 using @huggingface's transformer 4.3.0 for Automatic Speech Recognition.\\\\n\\\\nNow, you can transcribe your audio files directly on the hub using Wav2Vec2.\\\\n\\\\nVideo Link : https://t.co/E0omr18jIx\\\\n\\\\n#NLP #MachineLearning #DeepLearning #DataScience #Python #AI https://t.co/mXww5PQNHs\")\n",
            "(52, \"'@MdArif34 Thank you so much!'\")\n",
            "(53, \"'1000 Followers on GitHub 🙏🙏\\\\n\\\\n#github #MachineLearning #AI #YouTube https://t.co/puNy3UuSLk'\")\n",
            "(54, \"FREE Data Science Online Course for Absolute Beginner's\\\\n\\\\nVideo Link : https://t.co/FyWRS4iANO\\\\n\\\\n#DeepLearning #DataScience #Python #AI #MachineLearning #ArtificialIntelligence https://t.co/yeOeBxsaZ6\")\n",
            "(55, \"'A Big Big Thank You to @GoogleDevsIN &amp; @GoogleDevExpert for helping me have a higher quality online presence by providing me..🙂\\\\n- Blue Yeti USB Mic + Pop Filter\\\\n- Lenovo HD Web Camera\\\\n- Ring Light with Stand \\\\n\\\\n#GDE #DataScience #MachineLearning #AI #YouTube #youtubechannel https://t.co/azhYLRI2Hh'\")\n",
            "(56, \"'From 36 All out to winning the test series. \\\\nHistory has been made ✌️✌️✌️✌️✌️\\\\n#AUSvIND #GabbaTest #Gabba #AUSvINDtest'\")\n",
            "(57, \"'History will definitely be made today 🇮🇳🤞\\\\n#AUSvIND #GabbaTest #Gabba #AUSvINDtest'\")\n",
            "(58, \"'Best Data Science Certifications from Google to consider in 2021.\\\\n\\\\nVideo Link : https://t.co/hCiKd8K2Qb\\\\n\\\\n#DeepLearning #DataScience #Python #AI #MachineLearning https://t.co/EvGwLkL0ys'\")\n",
            "(59, \"'Will AutoML replace a Data Scientist?\\\\n\\\\nVideo Link : https://t.co/G3EBbGU6Jn\\\\n\\\\n#DeepLearning #DataScience #Python #AI #MachineLearning https://t.co/jwjItpuj7P'\")\n",
            "(60, \"'Faster Pandas Operation using PyPolars\\\\n\\\\nVideo Link : https://t.co/T2ohYevMIC\\\\n\\\\n#DeepLearning #DataScience #Python #AI #MachineLearning #ArtificialIntelligence https://t.co/ie4rTD1uB5'\")\n",
            "(61, \"'Language Identification using Google Compact Language Detector v3 (CLD3)\")\n",
            "(62, \"'No Facebook\")\n",
            "(63, \"'TextHero : Simplest way to Clean &amp; Analyze Text Data in Pandas\\\\n\\\\nVideo Link : https://t.co/757ENLb0Sr\\\\n\\\\n#DeepLearning #DataScience #Python #AI #MachineLearning #ArtificialIntelligence https://t.co/MVDUXY8Bon'\")\n",
            "(64, \"Cleaning Text Data using Python's Clean-Text Library\\\\n\\\\nVideo Link : https://t.co/FBnoWvWLVP\\\\n\\\\n#DeepLearning #DataScience #Python #AI #MachineLearning #artificialitellegence https://t.co/0ea3t6OqA9\")\n",
            "(65, \"'Simplest Example to Gamma &amp; C Hyper parameters of SVM.\\\\n\\\\nVideo Link : https://t.co/QwAx7ATiZp\\\\n\\\\n#DeepLearning #DataScience #Python #AI #MachineLearning #ArtificialIntelligence https://t.co/6cZwaBaQsS'\")\n",
            "(66, \"'Auto_TS : Automatically build multiple Time Series models using a Single Line of Code.\\\\n\\\\nVideo Link : https://t.co/k6DxUGy7ks\\\\n\\\\n#DeepLearning #DataScience #Python #AI #MachineLearning #ArtificialIntelligence https://t.co/37ZCHhncqo'\")\n",
            "(67, \"'The insights that a single alluvial diagram can give is amazing 😀 https://t.co/FsNFhj0mv9'\")\n",
            "(68, \"'Topic Modeling with BERT using Top2Vec.\\\\n\\\\nVideo Link : https://t.co/U8Rrj9wpEq\\\\n\\\\n#DeepLearning #DataScience #Python #AI #MachineLearning #ArtificialIntelligence #NLP https://t.co/YUSxDAH95p'\")\n",
            "(69, \"'I had an amazing experience being interviewed by @tejakkuntla on the Exploiting Podcast. \\\\n\\\\nFind the episode at: https://t.co/CYMcXBpjBp\\\\n\\\\n#MachineLearning #DeepLearning #DataScience #Python #AI https://t.co/a3a87woKyq'\")\n",
            "(70, \"Today's draw feels like a win! 🙏 #INDvAUS\")\n",
            "(71, \"'Lazy Predict for ML Models (AutoML)\\\\n\\\\nVideo Link : https://t.co/6vAqzhVkgZ\\\\n\\\\n#DeepLearning #DataScience #Python #AI #MachineLearning #ArtificialIntelligence https://t.co/A6GLAHvcz6'\")\n",
            "(72, \"'Regression using Multivariate Adaptive Regression Splines (MARS)\\\\n\\\\nVideo Link : https://t.co/Mm0UJk0fQW\\\\n\\\\n#DeepLearning #DataScience #Python #AI #MachineLearning #ArtificialIntelligence https://t.co/8SaJk5b95s'\")\n",
            "(73, \"'Topic Modeling with BERT using BERTopic.\\\\n\\\\nVideo Link : https://t.co/0lk1zSiqBF\\\\n\\\\n#DeepLearning #DataScience #Python #AI #MachineLearning #ArtificialIntelligence #NLP https://t.co/R5tRcbVz5W'\")\n",
            "(74, \"'OpenAI has created the DALL-E model\")\n",
            "(75, \"'Low Light Image Enhancement using Python &amp; Deep Learning\\\\n\\\\nVideo Link : https://t.co/AImtQsbWGe\\\\n\\\\n#DeepLearning #DataScience #Python #AI #MachineLearning #ArtificialIntelligence https://t.co/dUhtN47A3H'\")\n",
            "(76, \"'Visualize Python Code Execution.\\\\n\\\\nVideo Link : https://t.co/h7ORg619eZ\\\\n\\\\n#programmer #Python #Python3 #pythonlearning #pythoncode #SoftwareEngineer https://t.co/Kgk3pDIs75'\")\n",
            "(77, \"Happy New Year everyone 🥳 I hope 2021 turns out to be the best year of your life &amp; your family too. 2020 was a hard year because of COVID-19. Let's hope 2021 brings an end to this COVID-19 menace. Please stay safe &amp; look after one another. Bhavesh ✨✨\")\n",
            "(78, \"In 2021, I want to get my hands on the @YouTube's Silver Play Button ✨✨🤞🤞\\\\n\\\\n#YouTube #youtubechannel #DataScience #MachineLearning #AI #ArtificialIntelligence #DeepLearning\")\n",
            "(79, \"'@Arth_Soni242001 This blog should help - https://t.co/GFgbKLD70y'\")\n",
            "(80, \"'Wishing all of you &amp; your families a Merry Christmas &amp; Happy Holidays 🎅 🎄\\\\n\\\\nA lot happened in 2020\\\\n- I created 115 videos &amp; gained close to 19k subscribers 🙏\\\\n- I was awarded the 40 Under 40 Data Scientist award.\\\\n\\\\nThank you all for the support in 2020 &amp; looking forward to 2021😊'\")\n",
            "(81, \"@Arth_Soni242001 @GoogleDevsIN @GoogleDevExpert @sidagarwal04 I'm a GDE in Machine Learning Arth so we get rewarded for the community work that we do by Google :)\")\n",
            "(82, \"'Received some more awesome year end gifts from Google :) Thank you @GoogleDevsIN \")\n",
            "(83, \"'I have recently developed a fondness towards Palindrome Numbers\")\n",
            "(84, \"'My small tutorial on BERT based MuRIL (Multilingual Representations for Indian Languages) by @GoogleIndia\\\\n\\\\nVideo Link : https://t.co/neEL9AT8ob\\\\n\\\\n@GoogleDevsIN @GoogleDevExpert\\\\n\\\\n#DeepLearning #DataScience #Python #AI #MachineLearning #ArtificialIntelligence #NLP https://t.co/NpoXNFpjiy'\")\n",
            "(85, \"'#Bitcoin smashed through $20\")\n",
            "(86, \"'Simplest Example to explain the advantages of BERT over Word2Vec models.\\\\n\\\\nVideo Link : https://t.co/OvG1ckHZKa\\\\n\\\\n#DeepLearning #DataScience #Python #AI #MachineLearning #ArtificialIntelligence https://t.co/xC8tqr5vwJ'\")\n",
            "(87, \"'Received some amazing year end gifts :) Thank you @GoogleDevsIN \")\n",
            "(88, \"'Scrape HTML tables easily with a Button Click using Python!\\\\n\\\\nVideo Link : https://t.co/1ttzsSw7ua\\\\n\\\\n#DeepLearning #DataScience #Python #AI #MachineLearning #ArtificialIntelligence https://t.co/k6GOTri66c'\")\n",
            "(89, \"I sometimes can't imagine my life without Google Colab! 🙂 https://t.co/z2AnzwjW2G\")\n",
            "(90, \"'Turn Your Photos into Pencil Drawing/Sketch Easily using Python.\\\\n\\\\nVideo Link : https://t.co/svkDKfxB4n\\\\n\\\\n#DeepLearning #DataScience #Python #AI #MachineLearning #ArtificialIntelligence https://t.co/uEWHMtKs0x'\")\n",
            "(91, \"'Fuzzy String Matching with BERT\")\n",
            "(92, \"'For all of you who wanted to support me directly for my YouTube videos.\\\\n\\\\nI have activated the YouTube membership option. Do check out this video for more information 🙂\\\\n\\\\nLink : https://t.co/7PDERftqlK\\\\n\\\\n#DataScience #MachineLeraning #YouTube #ArtificialIntelligence #teaching https://t.co/wiWteSMIDW'\")\n",
            "(93, \"'Learn how to create Ridgeline plots which shows the distribution of a numeric value for several groups. \\\\n\\\\nVideo Link : https://t.co/H9vssCWslK\\\\n\\\\n#DeepLearning #DataScience #Python #AI #MachineLearning https://t.co/UaRWEWVdK8'\")\n",
            "(94, \"'Elegant Neural Network User Interface to build drag-and-drop neural networks\")\n",
            "(95, \"'@AiCodist Docly is surely gonna go places :) Thanks for creating it!'\")\n",
            "(96, \"Auto-Generate Python Comments/Documentation using with @AiCodist's Docly\\\\n\\\\nVideo Link : https://t.co/FO8E8jQ80U\\\\n\\\\n#Docly #NLP #MachineLearning #DeepLearning #DataScience #Python #AI https://t.co/2Fnj2xmcgG\")\n",
            "(97, \"'The small details of his videos 🙏 https://t.co/OTav4A2Wny'\")\n",
            "(98, \"I started a channel with the aim of teaching Python in 2020 &amp; I just realized that it has crossed 2000 subscriber mark 🙂\\\\n\\\\nDo check the channel if you haven't already : https://t.co/ZeTDCXoMHI\\\\n\\\\n#Python #DataScience #MachineLearning #AI  #DeepLearning #youtubechannel https://t.co/XwQwy2FOlP\")\n",
            "(99, \"November, 2017 was when I uploaded my first video on YouTube. Very little did I know that in exactly 3 years, I'll gain 25K Subscribers! A Big Thank You to all of you :)\\\\n\\\\n#DataScience #MachineLearning #AI #Python #youtubechannel #YouTube #YouTuber #YouTubers https://t.co/kIIUHArXkJ\")\n"
          ],
          "name": "stdout"
        }
      ]
    },
    {
      "cell_type": "code",
      "metadata": {
        "id": "d8uHfSmwzhDG"
      },
      "source": [
        ""
      ],
      "execution_count": null,
      "outputs": []
    }
  ]
}